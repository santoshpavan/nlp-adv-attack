{
 "cells": [
  {
   "cell_type": "code",
   "execution_count": 1,
   "metadata": {},
   "outputs": [],
   "source": [
    "# Importing stuff\n",
    "import numpy as np\n",
    "import pandas as pd\n",
    "import os"
   ]
  },
  {
   "cell_type": "code",
   "execution_count": 2,
   "metadata": {},
   "outputs": [],
   "source": [
    "df = pd.read_csv('processedZomato_fullFinal2.csv', delimiter = ',', encoding = \"utf-8\")"
   ]
  },
  {
   "cell_type": "code",
   "execution_count": 3,
   "metadata": {},
   "outputs": [
    {
     "data": {
      "text/html": [
       "<div>\n",
       "<style scoped>\n",
       "    .dataframe tbody tr th:only-of-type {\n",
       "        vertical-align: middle;\n",
       "    }\n",
       "\n",
       "    .dataframe tbody tr th {\n",
       "        vertical-align: top;\n",
       "    }\n",
       "\n",
       "    .dataframe thead th {\n",
       "        text-align: right;\n",
       "    }\n",
       "</style>\n",
       "<table border=\"1\" class=\"dataframe\">\n",
       "  <thead>\n",
       "    <tr style=\"text-align: right;\">\n",
       "      <th></th>\n",
       "      <th>Rating</th>\n",
       "      <th>Review</th>\n",
       "    </tr>\n",
       "  </thead>\n",
       "  <tbody>\n",
       "    <tr>\n",
       "      <td>0</td>\n",
       "      <td>4.0</td>\n",
       "      <td>beautiful place dine interiors take back mugha...</td>\n",
       "    </tr>\n",
       "    <tr>\n",
       "      <td>1</td>\n",
       "      <td>4.0</td>\n",
       "      <td>dinner family weekday restaurant completely em...</td>\n",
       "    </tr>\n",
       "    <tr>\n",
       "      <td>2</td>\n",
       "      <td>2.0</td>\n",
       "      <td>restaurant near banashankari bda along office ...</td>\n",
       "    </tr>\n",
       "    <tr>\n",
       "      <td>3</td>\n",
       "      <td>4.0</td>\n",
       "      <td>went weekend one us buffet two us took ala car...</td>\n",
       "    </tr>\n",
       "    <tr>\n",
       "      <td>4</td>\n",
       "      <td>4.0</td>\n",
       "      <td>good ambience tasty food cheese chilli paratha...</td>\n",
       "    </tr>\n",
       "    <tr>\n",
       "      <td>5</td>\n",
       "      <td>4.0</td>\n",
       "      <td>place nice comfortable food wise jalea outlets...</td>\n",
       "    </tr>\n",
       "    <tr>\n",
       "      <td>6</td>\n",
       "      <td>3.0</td>\n",
       "      <td>felt good little expensive quantity serve term...</td>\n",
       "    </tr>\n",
       "    <tr>\n",
       "      <td>7</td>\n",
       "      <td>4.0</td>\n",
       "      <td>looking quite place spend time family well wan...</td>\n",
       "    </tr>\n",
       "    <tr>\n",
       "      <td>8</td>\n",
       "      <td>4.0</td>\n",
       "      <td>nice place dine good ambiance food good servin...</td>\n",
       "    </tr>\n",
       "    <tr>\n",
       "      <td>9</td>\n",
       "      <td>5.0</td>\n",
       "      <td>place cool good ambience slow music delicious ...</td>\n",
       "    </tr>\n",
       "  </tbody>\n",
       "</table>\n",
       "</div>"
      ],
      "text/plain": [
       "   Rating                                             Review\n",
       "0     4.0  beautiful place dine interiors take back mugha...\n",
       "1     4.0  dinner family weekday restaurant completely em...\n",
       "2     2.0  restaurant near banashankari bda along office ...\n",
       "3     4.0  went weekend one us buffet two us took ala car...\n",
       "4     4.0  good ambience tasty food cheese chilli paratha...\n",
       "5     4.0  place nice comfortable food wise jalea outlets...\n",
       "6     3.0  felt good little expensive quantity serve term...\n",
       "7     4.0  looking quite place spend time family well wan...\n",
       "8     4.0  nice place dine good ambiance food good servin...\n",
       "9     5.0  place cool good ambience slow music delicious ..."
      ]
     },
     "execution_count": 3,
     "metadata": {},
     "output_type": "execute_result"
    }
   ],
   "source": [
    "df.head(10)"
   ]
  },
  {
   "cell_type": "code",
   "execution_count": 4,
   "metadata": {},
   "outputs": [],
   "source": [
    "# How many postive and negative reviews\n",
    "pos = []\n",
    "neg = []\n",
    "# Some of rating 3 are pos and some are neg. Creating a new section to change later if needed.\n",
    "# amb stands for ambigious. Because as a collection it is ambigious.\n",
    "amb = []\n",
    "for index, row in df.iterrows():\n",
    "# This was in the except part of the above commented statements\n",
    "    rat = float(row[\"Rating\"])\n",
    "    rev = row[\"Review\"]\n",
    "#     negative review\n",
    "    if rat < 3:\n",
    "        neg.append([rat, rev])\n",
    "#     ambigious review\n",
    "    elif rat == 3:\n",
    "        amb.append([rat, rev])\n",
    "#     positive review\n",
    "    else:\n",
    "        pos.append([rat, rev])\n",
    "#     if index == 84876:\n",
    "#         print(row[\"Review\"])\n",
    "# Checking things out\n",
    "# print(neg[0:3])\n",
    "# print(pos[0:3])"
   ]
  },
  {
   "cell_type": "code",
   "execution_count": 5,
   "metadata": {},
   "outputs": [
    {
     "name": "stdout",
     "output_type": "stream",
     "text": [
      "The number of positive reviews are: 34951\n",
      "The number of negative review are: 8712\n",
      "The number of ambigious review are: 7945\n"
     ]
    }
   ],
   "source": [
    "# The number of positive(>=3) and negative(<3) reviews\n",
    "print(\"The number of positive reviews are: \"+str(len(pos)))\n",
    "print(\"The number of negative review are: \"+str(len(neg)))\n",
    "print(\"The number of ambigious review are: \"+str(len(amb)))"
   ]
  },
  {
   "cell_type": "code",
   "execution_count": 6,
   "metadata": {},
   "outputs": [
    {
     "name": "stdout",
     "output_type": "stream",
     "text": [
      "[4.0, 'beautiful place dine interiors take back mughal era lightings perfect went occasion christmas limited items available taste service compromised complaint breads could better would surely like come']\n",
      "bad experience know la carte buffet worst gave us complementary drink momos buffet momos really good number varieties first disappointing service slow refilled food slowly starters okay main course also two gravies roti rice raitha chats sev puri pan puri average desert disappointing gulab jamun chocolate cake jamun cooked inside cold blob raw dough inside chocolate cake also really hard good overall buffet bad experience\n",
      "[3.0, 'one favourite places often visit south bangalore quality reduced little unhappy food time churros never dissapointed staff slow respond easily soups minestrone soup like vegetable stock water vegetables happy churros great usual must visit place u love churros starters africano panner it bit sweet happy dish loaded nachos this happened one best dishes take back words dissapointed dish main course sicilia pizzapizza good must try dish finally would recommend place churros pizza taste ambience  value money overall experience ']\n"
     ]
    }
   ],
   "source": [
    "# Just printing one to check\n",
    "print(pos[0])\n",
    "print(neg[1][1])\n",
    "print(amb[2])"
   ]
  },
  {
   "cell_type": "code",
   "execution_count": 7,
   "metadata": {},
   "outputs": [
    {
     "name": "stdout",
     "output_type": "stream",
     "text": [
      "Directory Already Exists\n"
     ]
    }
   ],
   "source": [
    "#Creating a directory to save all the reviews in different text files\n",
    "#the name of the directory\n",
    "dirName = \"Zomato_extracted\"\n",
    "dirPath = \"C:\\\\My Stuff\\\\NCSU\\\\Classes\\\\ALDA - 522\\\\Project\\\\\"\n",
    "dirTotalPath = dirPath + dirName\n",
    "#creating the directory\n",
    "try:\n",
    "    os.mkdir(dirTotalPath)\n",
    "    print(\"Directory Created\")\n",
    "except FileExistsError:\n",
    "    print(\"Directory Already Exists\")"
   ]
  },
  {
   "cell_type": "code",
   "execution_count": 8,
   "metadata": {},
   "outputs": [
    {
     "name": "stdout",
     "output_type": "stream",
     "text": [
      "Test dir already there\n",
      "Train dir already there\n"
     ]
    }
   ],
   "source": [
    "testdirName = \"test\"\n",
    "traindirName = \"train\"\n",
    "dirTotalPathTest = dirTotalPath+ \"\\\\\" + testdirName\n",
    "dirTotalPathTrain = dirTotalPath+ \"\\\\\" + traindirName\n",
    "try:\n",
    "    os.mkdir(dirTotalPathTest)\n",
    "    print(\"Test Dir created\")\n",
    "except FileExistsError:\n",
    "    print(\"Test dir already there\")\n",
    "\n",
    "try:\n",
    "    os.mkdir(dirTotalPathTrain)\n",
    "    print(\"Train Dir created\")\n",
    "except FileExistsError:\n",
    "    print(\"Train dir already there\")"
   ]
  },
  {
   "cell_type": "code",
   "execution_count": 9,
   "metadata": {},
   "outputs": [
    {
     "name": "stdout",
     "output_type": "stream",
     "text": [
      "neg directory is alredy there\n",
      "neg directory is alredy there\n",
      "pos directory is already there\n",
      "pos directory is already there\n"
     ]
    }
   ],
   "source": [
    "# Creating the extra directories for further classification\n",
    "# creating negative review directory\n",
    "negDirPathTest = dirTotalPathTest + \"\\\\\" + \"neg\"\n",
    "negDirPathTrain = dirTotalPathTrain + \"\\\\\" + \"neg\"\n",
    "\n",
    "try:\n",
    "    os.mkdir(negDirPathTest)\n",
    "    print(\"neg directory is created\")\n",
    "except FileExistsError:\n",
    "    print(\"neg directory is alredy there\")\n",
    "\n",
    "try:\n",
    "    os.mkdir(negDirPathTrain)\n",
    "    print(\"neg directory is created\")\n",
    "except FileExistsError:\n",
    "    print(\"neg directory is alredy there\")\n",
    "    \n",
    "# creating positive review directory\n",
    "posDirPathTest = dirTotalPathTest + \"\\\\\" + \"pos\"\n",
    "posDirPathTrain = dirTotalPathTrain + \"\\\\\" + \"pos\"\n",
    "try:\n",
    "    os.mkdir(posDirPathTest)\n",
    "    print(\"pos directory is created\")\n",
    "except FileExistsError:\n",
    "    print(\"pos directory is already there\")\n",
    "    \n",
    "try:\n",
    "    os.mkdir(posDirPathTrain)\n",
    "    print(\"pos directory is created\")\n",
    "except FileExistsError:\n",
    "    print(\"pos directory is already there\")"
   ]
  },
  {
   "cell_type": "code",
   "execution_count": 10,
   "metadata": {},
   "outputs": [],
   "source": [
    "# Considering \"Rating = 3\" to be positive\n",
    "pos = pos + amb\n",
    "# # Considering \"Rating = 3\" to be negative\n",
    "# neg = neg + amb"
   ]
  },
  {
   "cell_type": "code",
   "execution_count": 11,
   "metadata": {},
   "outputs": [],
   "source": [
    "#saving the reviews in the text files - NEG\n",
    "# j = 0 #index\n",
    "trainneg = neg[:int(len(neg)*0.2)]\n",
    "testneg = neg[int(len(neg)*0.2):]"
   ]
  },
  {
   "cell_type": "code",
   "execution_count": 12,
   "metadata": {},
   "outputs": [
    {
     "name": "stdout",
     "output_type": "stream",
     "text": [
      "[2.0, 'restaurant near banashankari bda along office friends visited buffet unfortunately provide veg buffet inquiring said place mostly visited vegetarians anyways ordered ala carte items took ages come food ok ok definitely visiting anymore']\n"
     ]
    },
    {
     "ename": "NameError",
     "evalue": "name 'testpos' is not defined",
     "output_type": "error",
     "traceback": [
      "\u001b[1;31m---------------------------------------------------------------------------\u001b[0m",
      "\u001b[1;31mNameError\u001b[0m                                 Traceback (most recent call last)",
      "\u001b[1;32m<ipython-input-12-eb8bb1990ba5>\u001b[0m in \u001b[0;36m<module>\u001b[1;34m\u001b[0m\n\u001b[0;32m      1\u001b[0m \u001b[0mprint\u001b[0m\u001b[1;33m(\u001b[0m\u001b[0mtrainneg\u001b[0m\u001b[1;33m[\u001b[0m\u001b[1;36m0\u001b[0m\u001b[1;33m]\u001b[0m\u001b[1;33m)\u001b[0m\u001b[1;33m\u001b[0m\u001b[1;33m\u001b[0m\u001b[0m\n\u001b[1;32m----> 2\u001b[1;33m \u001b[0mprint\u001b[0m\u001b[1;33m(\u001b[0m\u001b[0mtestpos\u001b[0m\u001b[1;33m[\u001b[0m\u001b[1;36m0\u001b[0m\u001b[1;33m]\u001b[0m\u001b[1;33m)\u001b[0m\u001b[1;33m\u001b[0m\u001b[1;33m\u001b[0m\u001b[0m\n\u001b[0m",
      "\u001b[1;31mNameError\u001b[0m: name 'testpos' is not defined"
     ]
    }
   ],
   "source": [
    "print(trainneg[0])\n",
    "print(testpos[0])"
   ]
  },
  {
   "cell_type": "code",
   "execution_count": 14,
   "metadata": {},
   "outputs": [],
   "source": [
    "for i in range(len(testneg)):#saving the neg reviews in a file\n",
    "#     this is following the format of the imdb file naming i.e. uniqueID_rating.txt\n",
    "    textFilePath = negDirPathTest + \"\\\\\" + str(i) + \"_\" + str(neg[i][0]) + \".txt\"\n",
    "    textFile = open(textFilePath,\"w\")\n",
    "#     print(neg[i][1])\n",
    "    try:\n",
    "        textFile.write(testneg[i][1])\n",
    "#         ATTENTION! - at least one ixdex data is lost here\n",
    "    except UnicodeEncodeError:\n",
    "        continue\n",
    "    textFile.close()\n",
    "#     j = j + 1 #incrementing the index\n"
   ]
  },
  {
   "cell_type": "code",
   "execution_count": 15,
   "metadata": {},
   "outputs": [],
   "source": [
    "for i in range(len(trainneg)):#saving the neg reviews in a file\n",
    "#     this is following the format of the imdb file naming i.e. uniqueID_rating.txt\n",
    "    textFilePath = negDirPathTrain + \"\\\\\" + str(i) + \"_\" + str(neg[i][0]) + \".txt\"\n",
    "    textFile = open(textFilePath,\"w\")\n",
    "#     print(neg[i][1])\n",
    "    try:\n",
    "        textFile.write(trainneg[i][1])\n",
    "#         ATTENTION! - at least one ixdex data is lost here\n",
    "    except UnicodeEncodeError:\n",
    "        continue\n",
    "    textFile.close()\n",
    "#     j = j + 1 #incrementing the index"
   ]
  },
  {
   "cell_type": "code",
   "execution_count": 16,
   "metadata": {},
   "outputs": [],
   "source": [
    "#saving the reviews in the text files - POS\n",
    "# j = 1 #index\n",
    "trainpos = pos[:int(len(pos)*0.2)]\n",
    "testpos = pos[int(len(pos)*0.2):]\n"
   ]
  },
  {
   "cell_type": "code",
   "execution_count": null,
   "metadata": {},
   "outputs": [],
   "source": [
    "print(trainpos[0])\n",
    "print(testpos[0])"
   ]
  },
  {
   "cell_type": "code",
   "execution_count": 17,
   "metadata": {},
   "outputs": [],
   "source": [
    "\n",
    "for i in range(len(trainpos)):#saving the pos reviews in a file\n",
    "    textFilePath = posDirPathTrain + \"\\\\\" + str(i) + \"_\" + str(pos[i][0]) + \".txt\"\n",
    "    textFile = open(textFilePath,\"w\")\n",
    "#     print(pos[i][1])\n",
    "#     ATTENTION! - AT ;EAS\n",
    "    try:\n",
    "        textFile.write(trainpos[i][1])\n",
    "    except UnicodeEncodeError:\n",
    "        continue\n",
    "    textFile.close()\n",
    "#     j = j + 1 #incrementing the index\n"
   ]
  },
  {
   "cell_type": "code",
   "execution_count": 18,
   "metadata": {},
   "outputs": [],
   "source": [
    "for i in range(len(testpos)):#saving the pos reviews in a file\n",
    "    textFilePath = posDirPathTest + \"\\\\\" + str(i) + \"_\" + str(pos[i][0]) + \".txt\"\n",
    "    textFile = open(textFilePath,\"w\")\n",
    "#     print(pos[i][1])\n",
    "#     ATTENTION! - AT ;EAS\n",
    "    try:\n",
    "        textFile.write(testpos[i][1])\n",
    "    except UnicodeEncodeError:\n",
    "        continue\n",
    "    textFile.close()\n",
    "#     j = j + 1 #incrementing the index"
   ]
  },
  {
   "cell_type": "code",
   "execution_count": null,
   "metadata": {},
   "outputs": [],
   "source": [
    "# Testing block\n",
    "for index, row in df.iterrows():\n",
    "    if index==3:\n",
    "        a = [row[\"Rating\"],row[\"Review\"]]\n",
    "        break\n",
    "        \n",
    "print(a)"
   ]
  },
  {
   "cell_type": "code",
   "execution_count": null,
   "metadata": {},
   "outputs": [],
   "source": [
    "# Taking the testing data into a csv file\n",
    "import csv\n",
    "tottest = testpos + testneg\n",
    "with open('processedZomato_fullFinaltest.csv','w',newline = '', encoding = 'utf-8') as csvFile:\n",
    "    writer = csv.writer(csvFile)\n",
    "    writer.writerows(tottest)\n",
    "csvFile.close()"
   ]
  },
  {
   "cell_type": "code",
   "execution_count": null,
   "metadata": {},
   "outputs": [],
   "source": []
  }
 ],
 "metadata": {
  "kernelspec": {
   "display_name": "Python 3",
   "language": "python",
   "name": "python3"
  },
  "language_info": {
   "codemirror_mode": {
    "name": "ipython",
    "version": 3
   },
   "file_extension": ".py",
   "mimetype": "text/x-python",
   "name": "python",
   "nbconvert_exporter": "python",
   "pygments_lexer": "ipython3",
   "version": "3.7.4"
  }
 },
 "nbformat": 4,
 "nbformat_minor": 2
}
